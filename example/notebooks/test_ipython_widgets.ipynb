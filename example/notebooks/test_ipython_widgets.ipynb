{
 "cells": [
  {
   "cell_type": "code",
   "execution_count": 1,
   "id": "30dd3ceb",
   "metadata": {
    "collapsed": false,
    "jupyter": {
     "outputs_hidden": false
    }
   },
   "outputs": [
    {
     "ename": "ModuleNotFoundError",
     "evalue": "No module named 'skimage'",
     "output_type": "error",
     "traceback": [
      "\u001b[31m---------------------------------------------------------------------------\u001b[39m",
      "\u001b[31mModuleNotFoundError\u001b[39m                       Traceback (most recent call last)",
      "\u001b[36mCell\u001b[39m\u001b[36m \u001b[39m\u001b[32mIn[1]\u001b[39m\u001b[32m, line 4\u001b[39m\n\u001b[32m      2\u001b[39m \u001b[38;5;28;01mfrom\u001b[39;00m\u001b[38;5;250m \u001b[39m\u001b[34;01mipywidgets\u001b[39;00m\u001b[38;5;250m \u001b[39m\u001b[38;5;28;01mimport\u001b[39;00m widgets\n\u001b[32m      3\u001b[39m \u001b[38;5;28;01mfrom\u001b[39;00m\u001b[38;5;250m \u001b[39m\u001b[34;01mIPython\u001b[39;00m\u001b[34;01m.\u001b[39;00m\u001b[34;01mdisplay\u001b[39;00m\u001b[38;5;250m \u001b[39m\u001b[38;5;28;01mimport\u001b[39;00m display\n\u001b[32m----> \u001b[39m\u001b[32m4\u001b[39m \u001b[38;5;28;01mfrom\u001b[39;00m\u001b[38;5;250m \u001b[39m\u001b[34;01mskimage\u001b[39;00m\u001b[38;5;250m \u001b[39m\u001b[38;5;28;01mimport\u001b[39;00m data\n\u001b[32m      7\u001b[39m image = data.camera()\n",
      "\u001b[31mModuleNotFoundError\u001b[39m: No module named 'skimage'"
     ]
    }
   ],
   "source": [
    "import ast\n",
    "from ipywidgets import widgets\n",
    "from IPython.display import display\n",
    "from skimage import data\n",
    "\n",
    "\n",
    "image = data.camera()"
   ]
  },
  {
   "cell_type": "code",
   "execution_count": 53,
   "id": "d6464c9a",
   "metadata": {
    "collapsed": false,
    "jupyter": {
     "outputs_hidden": false
    }
   },
   "outputs": [],
   "source": [
    "values = dict(\n",
    "    bool=True,\n",
    "    float=10.23,\n",
    "    int=1,\n",
    "#    image=image,\n",
    "    string=\"hello <b>guy</b>\",\n",
    ")"
   ]
  },
  {
   "cell_type": "code",
   "execution_count": 54,
   "id": "689a06e9",
   "metadata": {
    "collapsed": false,
    "jupyter": {
     "outputs_hidden": false
    }
   },
   "outputs": [],
   "source": [
    "def on_changed(*args):\n",
    "    print args"
   ]
  },
  {
   "cell_type": "code",
   "execution_count": 64,
   "id": "49f2a917",
   "metadata": {
    "collapsed": false,
    "jupyter": {
     "outputs_hidden": false
    }
   },
   "outputs": [
    {
     "name": "stdout",
     "output_type": "stream",
     "text": [
      "bool\n",
      "  - CheckboxWidget\n",
      "  - ToggleButtonWidget\n",
      "button\n",
      "  - ButtonWidget\n",
      "container\n",
      "  - PopupWidget\n",
      "float\n",
      "  - BoundedFloatTextWidget\n",
      "  - FloatProgressWidget\n",
      "  - FloatSliderWidget\n",
      "  - FloatTextWidget\n",
      "image\n",
      "  - ImageWidget\n",
      "int\n",
      "  - BoundedIntTextWidget\n",
      "  - IntProgressWidget\n",
      "  - IntSliderWidget\n",
      "  - IntTextWidget\n",
      "selection\n",
      "  - DropdownWidget\n",
      "  - RadioButtonsWidget\n",
      "  - SelectWidget\n",
      "  - ToggleButtonsWidget\n",
      "selectioncontainer\n",
      "  - AccordionWidget\n",
      "  - TabWidget\n",
      "string\n",
      "  - HTMLWidget\n",
      "  - LatexWidget\n",
      "  - TextWidget\n",
      "  - TextareaWidget\n"
     ]
    }
   ],
   "source": [
    "for wmname in dir(widgets):\n",
    "    if wmname.startswith('widget_'):\n",
    "        dtype = wmname.split('widget_')[1]\n",
    "        print dtype\n",
    "        submodule = getattr(widgets, wmname)\n",
    "        for wname in dir(submodule):\n",
    "            if not wname.startswith('_') and wname.endswith('Widget') and wname not in ('DOMWidget', 'ContainerWidget'):\n",
    "                print '  -', wname,\n",
    "                wclass = getattr(submodule, wname)\n",
    "                if dtype in values:\n",
    "                    w = wclass(value=values[dtype])\n",
    "                    #w.on_trait_change('value', on_changed)\n",
    "                    print\n",
    "                    display(w)\n",
    "                else:\n",
    "                    print"
   ]
  },
  {
   "cell_type": "code",
   "execution_count": 62,
   "id": "f84014a9",
   "metadata": {
    "collapsed": false,
    "jupyter": {
     "outputs_hidden": false
    }
   },
   "outputs": [],
   "source": [
    "w = widgets.SelectWidget(values=(dict(a=1,b=2)))\n",
    "w"
   ]
  },
  {
   "cell_type": "code",
   "execution_count": 63,
   "id": "cf6a0055",
   "metadata": {
    "collapsed": false,
    "jupyter": {
     "outputs_hidden": false
    }
   },
   "outputs": [
    {
     "data": {
      "text/plain": [
       "1"
      ]
     },
     "execution_count": 63,
     "metadata": {},
     "output_type": "execute_result"
    }
   ],
   "source": [
    "w.value"
   ]
  },
  {
   "cell_type": "code",
   "execution_count": null,
   "id": "c4aa1805",
   "metadata": {
    "collapsed": false,
    "jupyter": {
     "outputs_hidden": false
    }
   },
   "outputs": [],
   "source": []
  }
 ],
 "metadata": {
  "kernelspec": {
   "display_name": "Python 3 (ipykernel)",
   "language": "python",
   "name": "python3"
  },
  "language_info": {
   "codemirror_mode": {
    "name": "ipython",
    "version": 3
   },
   "file_extension": ".py",
   "mimetype": "text/x-python",
   "name": "python",
   "nbconvert_exporter": "python",
   "pygments_lexer": "ipython3",
   "version": "3.13.7"
  }
 },
 "nbformat": 4,
 "nbformat_minor": 5
}
