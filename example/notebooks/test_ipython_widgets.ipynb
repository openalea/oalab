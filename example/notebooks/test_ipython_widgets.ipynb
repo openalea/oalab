{
 "cells": [
  {
   "cell_type": "code",
   "execution_count": 2,
   "id": "30dd3ceb",
   "metadata": {
    "collapsed": false,
    "jupyter": {
     "outputs_hidden": false
    }
   },
   "outputs": [],
   "source": [
    "import ast\n",
    "from ipywidgets import widgets\n",
    "from IPython.display import display\n",
    "\n",
    "# Need scikit.image\n",
    "\n",
    "#image = data.camera()"
   ]
  },
  {
   "cell_type": "code",
   "execution_count": 3,
   "id": "d6464c9a",
   "metadata": {
    "collapsed": false,
    "jupyter": {
     "outputs_hidden": false
    }
   },
   "outputs": [],
   "source": [
    "values = dict(\n",
    "    bool=True,\n",
    "    float=10.23,\n",
    "    int=1,\n",
    "#    image=image,\n",
    "    string=\"hello <b>guy</b>\",\n",
    ")"
   ]
  },
  {
   "cell_type": "code",
   "execution_count": 5,
   "id": "689a06e9",
   "metadata": {
    "collapsed": false,
    "jupyter": {
     "outputs_hidden": false
    }
   },
   "outputs": [],
   "source": [
    "def on_changed(*args):\n",
    "    print(args)"
   ]
  },
  {
   "cell_type": "code",
   "execution_count": 6,
   "id": "49f2a917",
   "metadata": {
    "collapsed": false,
    "jupyter": {
     "outputs_hidden": false
    }
   },
   "outputs": [
    {
     "name": "stdout",
     "output_type": "stream",
     "text": [
      "bool\n",
      "  - CoreWidget\n",
      "\n"
     ]
    },
    {
     "data": {
      "text/plain": [
       "CoreWidget()"
      ]
     },
     "metadata": {},
     "output_type": "display_data"
    },
    {
     "name": "stdout",
     "output_type": "stream",
     "text": [
      "  - DescriptionWidget\n",
      "\n"
     ]
    },
    {
     "data": {
      "text/plain": [
       "DescriptionWidget()"
      ]
     },
     "metadata": {},
     "output_type": "display_data"
    },
    {
     "name": "stdout",
     "output_type": "stream",
     "text": [
      "  - ValueWidget\n",
      "\n"
     ]
    },
    {
     "data": {
      "text/plain": [
       "ValueWidget(value=True)"
      ]
     },
     "metadata": {},
     "output_type": "display_data"
    },
    {
     "name": "stdout",
     "output_type": "stream",
     "text": [
      "box\n",
      "  - CoreWidget\n",
      "\n",
      "  - Widget\n",
      "\n",
      "button\n",
      "  - CoreWidget\n",
      "\n",
      "color\n",
      "  - CoreWidget\n",
      "\n",
      "  - DescriptionWidget\n",
      "\n",
      "  - ValueWidget\n",
      "\n",
      "controller\n",
      "  - CoreWidget\n",
      "\n",
      "  - ValueWidget\n",
      "\n",
      "core\n",
      "  - CoreWidget\n",
      "\n",
      "  - Widget\n",
      "\n",
      "date\n",
      "  - CoreWidget\n",
      "\n",
      "  - DescriptionWidget\n",
      "\n",
      "  - ValueWidget\n",
      "\n",
      "datetime\n",
      "  - CoreWidget\n",
      "\n",
      "  - DescriptionWidget\n",
      "\n",
      "  - ValueWidget\n",
      "\n",
      "description\n",
      "  - CoreWidget\n",
      "\n",
      "  - DescriptionWidget\n",
      "\n",
      "  - Widget\n",
      "\n",
      "float\n",
      "  - CoreWidget\n",
      "\n"
     ]
    },
    {
     "data": {
      "text/plain": [
       "CoreWidget()"
      ]
     },
     "metadata": {},
     "output_type": "display_data"
    },
    {
     "name": "stdout",
     "output_type": "stream",
     "text": [
      "  - DescriptionWidget\n",
      "\n"
     ]
    },
    {
     "data": {
      "text/plain": [
       "DescriptionWidget()"
      ]
     },
     "metadata": {},
     "output_type": "display_data"
    },
    {
     "name": "stdout",
     "output_type": "stream",
     "text": [
      "  - ValueWidget\n",
      "\n"
     ]
    },
    {
     "data": {
      "text/plain": [
       "ValueWidget(value=10.23)"
      ]
     },
     "metadata": {},
     "output_type": "display_data"
    },
    {
     "name": "stdout",
     "output_type": "stream",
     "text": [
      "int\n",
      "  - CoreWidget\n",
      "\n"
     ]
    },
    {
     "data": {
      "text/plain": [
       "CoreWidget()"
      ]
     },
     "metadata": {},
     "output_type": "display_data"
    },
    {
     "name": "stdout",
     "output_type": "stream",
     "text": [
      "  - DescriptionWidget\n",
      "\n"
     ]
    },
    {
     "data": {
      "text/plain": [
       "DescriptionWidget()"
      ]
     },
     "metadata": {},
     "output_type": "display_data"
    },
    {
     "name": "stdout",
     "output_type": "stream",
     "text": [
      "  - ValueWidget\n",
      "\n"
     ]
    },
    {
     "data": {
      "text/plain": [
       "ValueWidget(value=1)"
      ]
     },
     "metadata": {},
     "output_type": "display_data"
    },
    {
     "name": "stdout",
     "output_type": "stream",
     "text": [
      "layout\n",
      "  - Widget\n",
      "\n",
      "link\n",
      "  - CoreWidget\n",
      "\n",
      "  - Widget\n",
      "\n",
      "media\n",
      "  - CoreWidget\n",
      "\n",
      "  - ValueWidget\n",
      "\n",
      "output\n",
      "selection\n",
      "  - CoreWidget\n",
      "\n",
      "  - DescriptionWidget\n",
      "\n",
      "  - ValueWidget\n",
      "\n",
      "selectioncontainer\n",
      "  - CoreWidget\n",
      "\n",
      "serialization\n",
      "string\n",
      "  - CoreWidget\n",
      "\n"
     ]
    },
    {
     "data": {
      "text/plain": [
       "CoreWidget()"
      ]
     },
     "metadata": {},
     "output_type": "display_data"
    },
    {
     "name": "stdout",
     "output_type": "stream",
     "text": [
      "  - DescriptionWidget\n",
      "\n"
     ]
    },
    {
     "data": {
      "text/plain": [
       "DescriptionWidget()"
      ]
     },
     "metadata": {},
     "output_type": "display_data"
    },
    {
     "name": "stdout",
     "output_type": "stream",
     "text": [
      "  - ValueWidget\n",
      "\n"
     ]
    },
    {
     "data": {
      "text/plain": [
       "ValueWidget(value='hello <b>guy</b>')"
      ]
     },
     "metadata": {},
     "output_type": "display_data"
    },
    {
     "name": "stdout",
     "output_type": "stream",
     "text": [
      "style\n",
      "  - Widget\n",
      "\n",
      "tagsinput\n",
      "  - CoreWidget\n",
      "\n",
      "  - DescriptionWidget\n",
      "\n",
      "  - ValueWidget\n",
      "\n",
      "templates\n",
      "  - Widget\n",
      "\n",
      "time\n",
      "  - CoreWidget\n",
      "\n",
      "  - DescriptionWidget\n",
      "\n",
      "  - ValueWidget\n",
      "\n",
      "upload\n",
      "  - CoreWidget\n",
      "\n",
      "  - DescriptionWidget\n",
      "\n",
      "  - ValueWidget\n",
      "\n"
     ]
    }
   ],
   "source": [
    "for wmname in dir(widgets):\n",
    "    if wmname.startswith('widget_'):\n",
    "        dtype = wmname.split('widget_')[1]\n",
    "        print(dtype)\n",
    "        submodule = getattr(widgets, wmname)\n",
    "        for wname in dir(submodule):\n",
    "            if not wname.startswith('_') and wname.endswith('Widget') and wname not in ('DOMWidget', 'ContainerWidget'):\n",
    "                print('  -', wname,)\n",
    "                wclass = getattr(submodule, wname)\n",
    "                if dtype in values:\n",
    "                    w = wclass(value=values[dtype])\n",
    "                    #w.on_trait_change('value', on_changed)\n",
    "                    print()\n",
    "                    display(w)\n",
    "                else:\n",
    "                    print()"
   ]
  },
  {
   "cell_type": "code",
   "execution_count": 8,
   "id": "f84014a9",
   "metadata": {
    "collapsed": false,
    "jupyter": {
     "outputs_hidden": false
    }
   },
   "outputs": [
    {
     "data": {
      "application/vnd.jupyter.widget-view+json": {
       "model_id": "72dcc9f685e4491aa9a4d92a425496ff",
       "version_major": 2,
       "version_minor": 0
      },
      "text/plain": [
       "Select(options=(), value=None)"
      ]
     },
     "execution_count": 8,
     "metadata": {},
     "output_type": "execute_result"
    }
   ],
   "source": [
    "w = widgets.Select(values=(dict(a=1,b=2)))\n",
    "w"
   ]
  },
  {
   "cell_type": "code",
   "execution_count": 9,
   "id": "cf6a0055",
   "metadata": {
    "collapsed": false,
    "jupyter": {
     "outputs_hidden": false
    }
   },
   "outputs": [],
   "source": [
    "w.value"
   ]
  },
  {
   "cell_type": "code",
   "execution_count": null,
   "id": "c4aa1805",
   "metadata": {
    "collapsed": false,
    "jupyter": {
     "outputs_hidden": false
    }
   },
   "outputs": [],
   "source": []
  }
 ],
 "metadata": {
  "kernelspec": {
   "display_name": "Python 3 (ipykernel)",
   "language": "python",
   "name": "python3"
  },
  "language_info": {
   "codemirror_mode": {
    "name": "ipython",
    "version": 3
   },
   "file_extension": ".py",
   "mimetype": "text/x-python",
   "name": "python",
   "nbconvert_exporter": "python",
   "pygments_lexer": "ipython3",
   "version": "3.13.7"
  },
  "widgets": {
   "application/vnd.jupyter.widget-state+json": {
    "state": {
     "046b96002dce457490ed57abf825fdbb": {
      "model_module": "@jupyter-widgets/base",
      "model_module_version": "2.0.0",
      "model_name": "LayoutModel",
      "state": {}
     },
     "0d4829e5fd9c4858b9412882c9e1d0c5": {
      "model_module": "@jupyter-widgets/controls",
      "model_module_version": "2.0.0",
      "model_name": "DescriptionStyleModel",
      "state": {
       "description_width": ""
      }
     },
     "2b649554c0e24adea334be0bf0306596": {
      "model_module": "@jupyter-widgets/controls",
      "model_module_version": "2.0.0",
      "model_name": "WidgetModel",
      "state": {
       "_model_module": "@jupyter-widgets/controls",
       "_view_name": "ErrorWidgetView",
       "error": {},
       "msg": "Failed to load model class 'WidgetModel' from module '@jupyter-widgets/controls'"
      }
     },
     "2f247819c19f49d3bba83ef8593e9840": {
      "model_module": "@jupyter-widgets/base",
      "model_module_version": "2.0.0",
      "model_name": "LayoutModel",
      "state": {}
     },
     "376ac94532e446d0a2623952a708cedd": {
      "model_module": "@jupyter-widgets/controls",
      "model_module_version": "2.0.0",
      "model_name": "WidgetModel",
      "state": {
       "_model_module": "@jupyter-widgets/controls",
       "_view_name": "ErrorWidgetView",
       "error": {},
       "msg": "Failed to load model class 'WidgetModel' from module '@jupyter-widgets/controls'"
      }
     },
     "38d1aba9b07f45198cd6dd39a30394d6": {
      "model_module": "@jupyter-widgets/controls",
      "model_module_version": "2.0.0",
      "model_name": "DescriptionModel",
      "state": {
       "_view_name": null,
       "layout": "IPY_MODEL_046b96002dce457490ed57abf825fdbb",
       "style": "IPY_MODEL_0d4829e5fd9c4858b9412882c9e1d0c5"
      }
     },
     "40687270478b4e0dba0a39e5f1cbe75d": {
      "model_module": "@jupyter-widgets/controls",
      "model_module_version": "2.0.0",
      "model_name": "WidgetModel",
      "state": {
       "_model_module": "@jupyter-widgets/controls",
       "_view_name": "ErrorWidgetView",
       "error": {},
       "msg": "Failed to load model class 'WidgetModel' from module '@jupyter-widgets/controls'"
      }
     },
     "4f7ad37872384ef0a83db1ed696e77ef": {
      "model_module": "@jupyter-widgets/controls",
      "model_module_version": "2.0.0",
      "model_name": "DescriptionModel",
      "state": {
       "_view_name": null,
       "layout": "IPY_MODEL_cb952a6b81a04a2db26ee02a036a58fa",
       "style": "IPY_MODEL_691562067afa4aa294c64e5a1cd23aac"
      }
     },
     "6784486908b5464cbd5d4ea356f06480": {
      "model_module": "@jupyter-widgets/controls",
      "model_module_version": "2.0.0",
      "model_name": "DescriptionModel",
      "state": {
       "_view_name": null,
       "layout": "IPY_MODEL_8e0a21fa0b6c4d4893ca8cb9d3c5bf6e",
       "style": "IPY_MODEL_f32bedd09d734b11a3a7e6973ed6d76a"
      }
     },
     "69111f15fa034820ae5de4eedaeea059": {
      "model_module": "@jupyter-widgets/base",
      "model_module_version": "2.0.0",
      "model_name": "WidgetModel",
      "state": {
       "_view_module": null,
       "_view_module_version": ""
      }
     },
     "691562067afa4aa294c64e5a1cd23aac": {
      "model_module": "@jupyter-widgets/controls",
      "model_module_version": "2.0.0",
      "model_name": "DescriptionStyleModel",
      "state": {
       "description_width": ""
      }
     },
     "72dcc9f685e4491aa9a4d92a425496ff": {
      "model_module": "@jupyter-widgets/controls",
      "model_module_version": "2.0.0",
      "model_name": "SelectModel",
      "state": {
       "index": null,
       "layout": "IPY_MODEL_2f247819c19f49d3bba83ef8593e9840",
       "style": "IPY_MODEL_bdf67eeae23d45cd80e74e08eb679d86"
      }
     },
     "76083efd9f0a4989a3bf00ad3056e292": {
      "model_module": "@jupyter-widgets/controls",
      "model_module_version": "2.0.0",
      "model_name": "DescriptionStyleModel",
      "state": {
       "description_width": ""
      }
     },
     "8e0a21fa0b6c4d4893ca8cb9d3c5bf6e": {
      "model_module": "@jupyter-widgets/base",
      "model_module_version": "2.0.0",
      "model_name": "LayoutModel",
      "state": {}
     },
     "949cbcb5df0247d58f15ae104f9b904c": {
      "model_module": "@jupyter-widgets/base",
      "model_module_version": "2.0.0",
      "model_name": "WidgetModel",
      "state": {
       "_view_module": null,
       "_view_module_version": ""
      }
     },
     "9929cb55dfa249c28fd04310a81b983a": {
      "model_module": "@jupyter-widgets/controls",
      "model_module_version": "2.0.0",
      "model_name": "DescriptionModel",
      "state": {
       "_view_name": null,
       "layout": "IPY_MODEL_bdce6b1878ef41b199094cc4bf9107c0",
       "style": "IPY_MODEL_76083efd9f0a4989a3bf00ad3056e292"
      }
     },
     "bdce6b1878ef41b199094cc4bf9107c0": {
      "model_module": "@jupyter-widgets/base",
      "model_module_version": "2.0.0",
      "model_name": "LayoutModel",
      "state": {}
     },
     "bdf67eeae23d45cd80e74e08eb679d86": {
      "model_module": "@jupyter-widgets/controls",
      "model_module_version": "2.0.0",
      "model_name": "DescriptionStyleModel",
      "state": {
       "description_width": ""
      }
     },
     "c9574572b28c4132a81141744354a2fb": {
      "model_module": "@jupyter-widgets/controls",
      "model_module_version": "2.0.0",
      "model_name": "WidgetModel",
      "state": {
       "_model_module": "@jupyter-widgets/controls",
       "_view_name": "ErrorWidgetView",
       "error": {},
       "msg": "Failed to load model class 'WidgetModel' from module '@jupyter-widgets/controls'"
      }
     },
     "cb952a6b81a04a2db26ee02a036a58fa": {
      "model_module": "@jupyter-widgets/base",
      "model_module_version": "2.0.0",
      "model_name": "LayoutModel",
      "state": {}
     },
     "e85894db5f4b431ebee6cdd518ac7e30": {
      "model_module": "@jupyter-widgets/base",
      "model_module_version": "2.0.0",
      "model_name": "WidgetModel",
      "state": {
       "_view_module": null,
       "_view_module_version": ""
      }
     },
     "f2b6a9b2d99a4b268c500ecb3861ea8c": {
      "model_module": "@jupyter-widgets/base",
      "model_module_version": "2.0.0",
      "model_name": "WidgetModel",
      "state": {
       "_view_module": null,
       "_view_module_version": ""
      }
     },
     "f32bedd09d734b11a3a7e6973ed6d76a": {
      "model_module": "@jupyter-widgets/controls",
      "model_module_version": "2.0.0",
      "model_name": "DescriptionStyleModel",
      "state": {
       "description_width": ""
      }
     }
    },
    "version_major": 2,
    "version_minor": 0
   }
  }
 },
 "nbformat": 4,
 "nbformat_minor": 5
}
