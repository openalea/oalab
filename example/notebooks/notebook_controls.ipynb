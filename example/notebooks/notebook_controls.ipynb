{
 "cells": [
  {
   "cell_type": "markdown",
   "id": "15c41203",
   "metadata": {},
   "source": [
    "How to use control in notebook"
   ]
  },
  {
   "cell_type": "code",
   "execution_count": 1,
   "id": "201c73e1",
   "metadata": {
    "collapsed": false,
    "jupyter": {
     "outputs_hidden": false
    }
   },
   "outputs": [],
   "source": [
    "from openalea.core.control import Control\n",
    "from openalea.oalab.service.notebook_control import notebook_editor, select_default_widgets\n",
    "from openalea.core.service.control import new_control\n",
    "from IPython.display import display\n",
    "%load_ext autoreload\n",
    "%autoreload"
   ]
  },
  {
   "cell_type": "markdown",
   "id": "a8fb750a",
   "metadata": {},
   "source": [
    "Display preference widget to allow user to choose wich widget he want to use to edit controls"
   ]
  },
  {
   "cell_type": "code",
   "execution_count": 2,
   "id": "5346fff8",
   "metadata": {
    "collapsed": false,
    "jupyter": {
     "outputs_hidden": false
    }
   },
   "outputs": [
    {
     "data": {
      "application/vnd.jupyter.widget-view+json": {
       "model_id": "114225d40783450191f7235ad7a4cf35",
       "version_major": 2,
       "version_minor": 0
      },
      "text/plain": [
       "Box(children=(Select(description='Integer ℤ', options=(), value=None), Select(description='Short Text', option…"
      ]
     },
     "metadata": {},
     "output_type": "display_data"
    }
   ],
   "source": [
    "pref = select_default_widgets()"
   ]
  },
  {
   "cell_type": "markdown",
   "id": "104367b8",
   "metadata": {},
   "source": [
    "Now, let's create 3 control explicitly by giving a name, an interface name and an initial value"
   ]
  },
  {
   "cell_type": "code",
   "execution_count": 3,
   "id": "d33cc2b1",
   "metadata": {
    "collapsed": false,
    "jupyter": {
     "outputs_hidden": false
    }
   },
   "outputs": [
    {
     "data": {
      "application/vnd.jupyter.widget-view+json": {
       "model_id": "259567d33e1145979d24c25891c9b13e",
       "version_major": 2,
       "version_minor": 0
      },
      "text/plain": [
       "IntSlider(value=5)"
      ]
     },
     "metadata": {},
     "output_type": "display_data"
    },
    {
     "data": {
      "application/vnd.jupyter.widget-view+json": {
       "model_id": "90ad8b5132784470b41987c0b752b0d2",
       "version_major": 2,
       "version_minor": 0
      },
      "text/plain": [
       "HTML(value='<b>Control</b> sample')"
      ]
     },
     "metadata": {},
     "output_type": "display_data"
    },
    {
     "data": {
      "application/vnd.jupyter.widget-view+json": {
       "model_id": "4d74b7bce082453a8248858657a02b3c",
       "version_major": 2,
       "version_minor": 0
      },
      "text/plain": [
       "Checkbox(value=True)"
      ]
     },
     "metadata": {},
     "output_type": "display_data"
    }
   ],
   "source": [
    "c1 = Control('c', 'IInt', 5)\n",
    "c2 = Control('html', 'IStr', \"<b>Control</b> sample\")\n",
    "c3 = Control('html', 'IBool', True)\n",
    "for c in (c1, c2, c3):\n",
    "    widget = notebook_editor(c)\n",
    "    display(widget)"
   ]
  },
  {
   "cell_type": "markdown",
   "id": "c320ed8f",
   "metadata": {},
   "source": [
    "Second approach is to use control service to create new control just giving its name and initial value.\n",
    "Interface is defined from initial value."
   ]
  },
  {
   "cell_type": "markdown",
   "id": "3fd4dee9",
   "metadata": {},
   "source": [
    "Create widgets (using arbitrary widgets representation)"
   ]
  },
  {
   "cell_type": "code",
   "execution_count": 4,
   "id": "00a97e07",
   "metadata": {
    "collapsed": false,
    "jupyter": {
     "outputs_hidden": false
    }
   },
   "outputs": [
    {
     "data": {
      "application/vnd.jupyter.widget-view+json": {
       "model_id": "a615439d97f64bc4975300f91d539afa",
       "version_major": 2,
       "version_minor": 0
      },
      "text/plain": [
       "IntSlider(value=5)"
      ]
     },
     "metadata": {},
     "output_type": "display_data"
    },
    {
     "data": {
      "application/vnd.jupyter.widget-view+json": {
       "model_id": "9ed81d6e6f45442b98eb7a360fbf438c",
       "version_major": 2,
       "version_minor": 0
      },
      "text/plain": [
       "HTML(value='<b>Hello</b>')"
      ]
     },
     "metadata": {},
     "output_type": "display_data"
    },
    {
     "data": {
      "application/vnd.jupyter.widget-view+json": {
       "model_id": "fa73c28971a3480c8d0bac7cbeeb31ec",
       "version_major": 2,
       "version_minor": 0
      },
      "text/plain": [
       "Checkbox(value=True)"
      ]
     },
     "metadata": {},
     "output_type": "display_data"
    }
   ],
   "source": [
    "for value in (5, \"<b>Hello</b>\", True):\n",
    "    widget = notebook_editor(new_control('c', value=value))\n",
    "    display(widget)"
   ]
  },
  {
   "cell_type": "markdown",
   "id": "2d0dea85",
   "metadata": {},
   "source": [
    "This time, we want to create widgets using representation chosen in preferences"
   ]
  },
  {
   "cell_type": "code",
   "execution_count": 5,
   "id": "783aaf4f",
   "metadata": {
    "collapsed": false,
    "jupyter": {
     "outputs_hidden": false
    }
   },
   "outputs": [
    {
     "data": {
      "text/plain": [
       "None"
      ]
     },
     "metadata": {},
     "output_type": "display_data"
    }
   ],
   "source": [
    "control = new_control('text', value=\"Text <b>Ok</b>\")\n",
    "widget = notebook_editor(control, preferences=pref)\n",
    "display(widget)"
   ]
  },
  {
   "cell_type": "markdown",
   "id": "177a0e6f",
   "metadata": {},
   "source": [
    "Last step, check control are well synchronized"
   ]
  },
  {
   "cell_type": "code",
   "execution_count": 15,
   "id": "dfe03f4b",
   "metadata": {
    "collapsed": false,
    "jupyter": {
     "outputs_hidden": false
    }
   },
   "outputs": [],
   "source": [
    "from ipywidgets import Text, Textarea\n",
    "control = new_control('text', value=\"$$\\\\sum _{i=1}^3x_i$$\")\n",
    "w1 = notebook_editor(control, preferred=Textarea)\n",
    "w2 = notebook_editor(control, preferences=pref)"
   ]
  },
  {
   "cell_type": "code",
   "execution_count": 16,
   "id": "a5a5f03d",
   "metadata": {
    "collapsed": false,
    "jupyter": {
     "outputs_hidden": false
    }
   },
   "outputs": [
    {
     "data": {
      "application/vnd.jupyter.widget-view+json": {
       "model_id": "00dc74defc8a415d879aed8400453849",
       "version_major": 2,
       "version_minor": 0
      },
      "text/plain": [
       "Textarea(value='$$\\\\sum _{i=1}^3x_i$$')"
      ]
     },
     "metadata": {},
     "output_type": "display_data"
    },
    {
     "data": {
      "text/plain": [
       "None"
      ]
     },
     "metadata": {},
     "output_type": "display_data"
    }
   ],
   "source": [
    "display(w1)\n",
    "display(w2)"
   ]
  },
  {
   "cell_type": "code",
   "execution_count": 17,
   "id": "98fad164",
   "metadata": {
    "collapsed": false,
    "jupyter": {
     "outputs_hidden": false
    }
   },
   "outputs": [
    {
     "data": {
      "application/vnd.jupyter.widget-view+json": {
       "model_id": "e20ddd1e1742450cb416c0d83d528dba",
       "version_major": 2,
       "version_minor": 0
      },
      "text/plain": [
       "IntSlider(value=1)"
      ]
     },
     "metadata": {},
     "output_type": "display_data"
    },
    {
     "data": {
      "application/vnd.jupyter.widget-view+json": {
       "model_id": "d070b42c239c4531981882c7fc00e1a2",
       "version_major": 2,
       "version_minor": 0
      },
      "text/plain": [
       "IntSlider(value=1)"
      ]
     },
     "metadata": {},
     "output_type": "display_data"
    }
   ],
   "source": [
    "control = new_control('int', value=1)\n",
    "w1 = notebook_editor(control)\n",
    "w2 = notebook_editor(control)\n",
    "display(w1)\n",
    "display(w2)"
   ]
  },
  {
   "cell_type": "code",
   "execution_count": 18,
   "id": "2e237c10",
   "metadata": {
    "collapsed": false,
    "jupyter": {
     "outputs_hidden": false
    }
   },
   "outputs": [
    {
     "data": {
      "text/latex": [
       "$$\\sum _{i=1}^3x_i$$"
      ],
      "text/plain": [
       "<IPython.core.display.Latex object>"
      ]
     },
     "execution_count": 18,
     "metadata": {},
     "output_type": "execute_result"
    }
   ],
   "source": [
    "from IPython.display import Latex\n",
    "Latex(\"$$\\\\sum _{i=1}^3x_i$$\")"
   ]
  },
  {
   "cell_type": "markdown",
   "id": "28640ecc",
   "metadata": {},
   "source": [
    "Formule $\\sum _{i=1}^3x_i$ ok!\n",
    "\n",
    "\n"
   ]
  }
 ],
 "metadata": {
  "kernelspec": {
   "display_name": "Python 3 (ipykernel)",
   "language": "python",
   "name": "python3"
  },
  "language_info": {
   "codemirror_mode": {
    "name": "ipython",
    "version": 3
   },
   "file_extension": ".py",
   "mimetype": "text/x-python",
   "name": "python",
   "nbconvert_exporter": "python",
   "pygments_lexer": "ipython3",
   "version": "3.13.7"
  },
  "widgets": {
   "application/vnd.jupyter.widget-state+json": {
    "state": {
     "00dc74defc8a415d879aed8400453849": {
      "model_module": "@jupyter-widgets/controls",
      "model_module_version": "2.0.0",
      "model_name": "TextareaModel",
      "state": {
       "layout": "IPY_MODEL_8cdd9e2bbb4848629ec079b3ee08914d",
       "style": "IPY_MODEL_0c5238afe9c0453484b8a0189ea1b265",
       "value": "$$\\sum _{i=1}^3x_i$$"
      }
     },
     "0c5238afe9c0453484b8a0189ea1b265": {
      "model_module": "@jupyter-widgets/controls",
      "model_module_version": "2.0.0",
      "model_name": "TextStyleModel",
      "state": {
       "description_width": "",
       "font_size": null,
       "text_color": null
      }
     },
     "114225d40783450191f7235ad7a4cf35": {
      "model_module": "@jupyter-widgets/controls",
      "model_module_version": "2.0.0",
      "model_name": "BoxModel",
      "state": {
       "children": [
        "IPY_MODEL_8b79c90258b54df785227f38b2781299",
        "IPY_MODEL_e4566a0b3015468389e8967a8cde92dd",
        "IPY_MODEL_a4ed404e04ad4888aa85c5f52b17f0fa"
       ],
       "layout": "IPY_MODEL_f8f982ea66be4b11a60a17ab35862aba"
      }
     },
     "19bfcbc1217a455496d20ffb18daf43e": {
      "model_module": "@jupyter-widgets/base",
      "model_module_version": "2.0.0",
      "model_name": "LayoutModel",
      "state": {}
     },
     "22c23fd69a6e4a18b4057fcc93edaef6": {
      "model_module": "@jupyter-widgets/base",
      "model_module_version": "2.0.0",
      "model_name": "LayoutModel",
      "state": {}
     },
     "24ce435d9409402eac055ecb27a5179c": {
      "model_module": "@jupyter-widgets/controls",
      "model_module_version": "2.0.0",
      "model_name": "DescriptionStyleModel",
      "state": {
       "description_width": ""
      }
     },
     "259567d33e1145979d24c25891c9b13e": {
      "model_module": "@jupyter-widgets/controls",
      "model_module_version": "2.0.0",
      "model_name": "IntSliderModel",
      "state": {
       "behavior": "drag-tap",
       "layout": "IPY_MODEL_4bfd7be0d2ad4241b019dc3b8ec9984e",
       "style": "IPY_MODEL_c6b868cf61ca4687ab3675a702a38caf",
       "value": 27
      }
     },
     "2a6c0c9e5b5a4d60abaf47ab946fdee0": {
      "model_module": "@jupyter-widgets/controls",
      "model_module_version": "2.0.0",
      "model_name": "DescriptionStyleModel",
      "state": {
       "description_width": ""
      }
     },
     "2c917cc61ef640579a90a5272f03069b": {
      "model_module": "@jupyter-widgets/base",
      "model_module_version": "2.0.0",
      "model_name": "LayoutModel",
      "state": {}
     },
     "2fa6880aba754c55b531429ff3fe8707": {
      "model_module": "@jupyter-widgets/controls",
      "model_module_version": "2.0.0",
      "model_name": "SliderStyleModel",
      "state": {
       "description_width": ""
      }
     },
     "356d7020c7ab483e9a9195a7a0dd45bc": {
      "model_module": "@jupyter-widgets/controls",
      "model_module_version": "2.0.0",
      "model_name": "DescriptionStyleModel",
      "state": {
       "description_width": ""
      }
     },
     "395ff9ed450342c18a2c648f7bceab56": {
      "model_module": "@jupyter-widgets/base",
      "model_module_version": "2.0.0",
      "model_name": "LayoutModel",
      "state": {}
     },
     "39e225c306064d3fb5055751790fa567": {
      "model_module": "@jupyter-widgets/controls",
      "model_module_version": "2.0.0",
      "model_name": "CheckboxStyleModel",
      "state": {
       "description_width": ""
      }
     },
     "4858eda5682948449a4500aadcb2f2f3": {
      "model_module": "@jupyter-widgets/base",
      "model_module_version": "2.0.0",
      "model_name": "LayoutModel",
      "state": {}
     },
     "4ae29d5e97884165b1715042f80b2cb0": {
      "model_module": "@jupyter-widgets/controls",
      "model_module_version": "2.0.0",
      "model_name": "SliderStyleModel",
      "state": {
       "description_width": ""
      }
     },
     "4bfd7be0d2ad4241b019dc3b8ec9984e": {
      "model_module": "@jupyter-widgets/base",
      "model_module_version": "2.0.0",
      "model_name": "LayoutModel",
      "state": {}
     },
     "4d74b7bce082453a8248858657a02b3c": {
      "model_module": "@jupyter-widgets/controls",
      "model_module_version": "2.0.0",
      "model_name": "CheckboxModel",
      "state": {
       "disabled": false,
       "layout": "IPY_MODEL_19bfcbc1217a455496d20ffb18daf43e",
       "style": "IPY_MODEL_9a3d3aba5695425ab71723dbf2a2e15d",
       "value": true
      }
     },
     "5f07a38f93274cdb8fd0ef1bb655d60c": {
      "model_module": "@jupyter-widgets/controls",
      "model_module_version": "2.0.0",
      "model_name": "TextStyleModel",
      "state": {
       "description_width": "",
       "font_size": null,
       "text_color": null
      }
     },
     "63f8f1944f7b4f629904cb1f7ddeba70": {
      "model_module": "@jupyter-widgets/controls",
      "model_module_version": "2.0.0",
      "model_name": "TextStyleModel",
      "state": {
       "description_width": "",
       "font_size": null,
       "text_color": null
      }
     },
     "657754ef8fdf43dfa8915c6eb0851b78": {
      "model_module": "@jupyter-widgets/base",
      "model_module_version": "2.0.0",
      "model_name": "LayoutModel",
      "state": {}
     },
     "664a7591b7894ce59fe903d2720214f6": {
      "model_module": "@jupyter-widgets/base",
      "model_module_version": "2.0.0",
      "model_name": "LayoutModel",
      "state": {}
     },
     "6a1a81f5d8e3432398148572b6d77cf1": {
      "model_module": "@jupyter-widgets/controls",
      "model_module_version": "2.0.0",
      "model_name": "SliderStyleModel",
      "state": {
       "description_width": ""
      }
     },
     "809b0fa0113d434b85894cd42a10e375": {
      "model_module": "@jupyter-widgets/controls",
      "model_module_version": "2.0.0",
      "model_name": "IntSliderModel",
      "state": {
       "behavior": "drag-tap",
       "layout": "IPY_MODEL_2c917cc61ef640579a90a5272f03069b",
       "style": "IPY_MODEL_ff906aebabd0418eb2bbc4700922e869",
       "value": 38
      }
     },
     "8b79c90258b54df785227f38b2781299": {
      "model_module": "@jupyter-widgets/controls",
      "model_module_version": "2.0.0",
      "model_name": "SelectModel",
      "state": {
       "description": "Integer ℤ",
       "index": null,
       "layout": "IPY_MODEL_efd64047c5664b7fae39de130b85af27",
       "style": "IPY_MODEL_24ce435d9409402eac055ecb27a5179c"
      }
     },
     "8cdd9e2bbb4848629ec079b3ee08914d": {
      "model_module": "@jupyter-widgets/base",
      "model_module_version": "2.0.0",
      "model_name": "LayoutModel",
      "state": {}
     },
     "90ad8b5132784470b41987c0b752b0d2": {
      "model_module": "@jupyter-widgets/controls",
      "model_module_version": "2.0.0",
      "model_name": "HTMLModel",
      "state": {
       "layout": "IPY_MODEL_4858eda5682948449a4500aadcb2f2f3",
       "style": "IPY_MODEL_aacb08b525b944a9a511b1124eda71dd",
       "value": "<b>Control</b> sample"
      }
     },
     "9a3d3aba5695425ab71723dbf2a2e15d": {
      "model_module": "@jupyter-widgets/controls",
      "model_module_version": "2.0.0",
      "model_name": "CheckboxStyleModel",
      "state": {
       "description_width": ""
      }
     },
     "9ed81d6e6f45442b98eb7a360fbf438c": {
      "model_module": "@jupyter-widgets/controls",
      "model_module_version": "2.0.0",
      "model_name": "HTMLModel",
      "state": {
       "layout": "IPY_MODEL_c9da130eb0dd4803ade6fdddd1bfd4a8",
       "style": "IPY_MODEL_f526b2e3e32f4602bfb5ed1e26dc0ef1",
       "value": "<b>Hello</b>"
      }
     },
     "a4ed404e04ad4888aa85c5f52b17f0fa": {
      "model_module": "@jupyter-widgets/controls",
      "model_module_version": "2.0.0",
      "model_name": "SelectModel",
      "state": {
       "description": "Boolean (True/False)",
       "index": null,
       "layout": "IPY_MODEL_e65696ef1bff4ac792b2279fffe2f40c",
       "style": "IPY_MODEL_2a6c0c9e5b5a4d60abaf47ab946fdee0"
      }
     },
     "a615439d97f64bc4975300f91d539afa": {
      "model_module": "@jupyter-widgets/controls",
      "model_module_version": "2.0.0",
      "model_name": "IntSliderModel",
      "state": {
       "behavior": "drag-tap",
       "layout": "IPY_MODEL_395ff9ed450342c18a2c648f7bceab56",
       "style": "IPY_MODEL_deea2a6f47a143a1a40e05b280696d54",
       "value": 5
      }
     },
     "aacb08b525b944a9a511b1124eda71dd": {
      "model_module": "@jupyter-widgets/controls",
      "model_module_version": "2.0.0",
      "model_name": "HTMLStyleModel",
      "state": {
       "description_width": "",
       "font_size": null,
       "text_color": null
      }
     },
     "b7253e6e6fb9453fbc918b4fb14e2761": {
      "model_module": "@jupyter-widgets/base",
      "model_module_version": "2.0.0",
      "model_name": "LayoutModel",
      "state": {}
     },
     "b7471a4bbe4440c3a69c8a0008949a4e": {
      "model_module": "@jupyter-widgets/base",
      "model_module_version": "2.0.0",
      "model_name": "LayoutModel",
      "state": {}
     },
     "bc3620113a0d4bf2a578bfdff918ee88": {
      "model_module": "@jupyter-widgets/controls",
      "model_module_version": "2.0.0",
      "model_name": "IntSliderModel",
      "state": {
       "behavior": "drag-tap",
       "layout": "IPY_MODEL_f9dadd2930c849c0a4c2cd4c42a20599",
       "style": "IPY_MODEL_4ae29d5e97884165b1715042f80b2cb0",
       "value": 38
      }
     },
     "c6b868cf61ca4687ab3675a702a38caf": {
      "model_module": "@jupyter-widgets/controls",
      "model_module_version": "2.0.0",
      "model_name": "SliderStyleModel",
      "state": {
       "description_width": ""
      }
     },
     "c9da130eb0dd4803ade6fdddd1bfd4a8": {
      "model_module": "@jupyter-widgets/base",
      "model_module_version": "2.0.0",
      "model_name": "LayoutModel",
      "state": {}
     },
     "d070b42c239c4531981882c7fc00e1a2": {
      "model_module": "@jupyter-widgets/controls",
      "model_module_version": "2.0.0",
      "model_name": "IntSliderModel",
      "state": {
       "behavior": "drag-tap",
       "layout": "IPY_MODEL_d6e6bfe6b02a440e9ba3a7d9e858d64c",
       "style": "IPY_MODEL_2fa6880aba754c55b531429ff3fe8707",
       "value": 1
      }
     },
     "d6e6bfe6b02a440e9ba3a7d9e858d64c": {
      "model_module": "@jupyter-widgets/base",
      "model_module_version": "2.0.0",
      "model_name": "LayoutModel",
      "state": {}
     },
     "d941274d06b84dbd9fa1e282f2e294f1": {
      "model_module": "@jupyter-widgets/controls",
      "model_module_version": "2.0.0",
      "model_name": "TextareaModel",
      "state": {
       "layout": "IPY_MODEL_b7471a4bbe4440c3a69c8a0008949a4e",
       "style": "IPY_MODEL_5f07a38f93274cdb8fd0ef1bb655d60c",
       "value": "$$\\sum _{i=1}^3x_i$$"
      }
     },
     "deea2a6f47a143a1a40e05b280696d54": {
      "model_module": "@jupyter-widgets/controls",
      "model_module_version": "2.0.0",
      "model_name": "SliderStyleModel",
      "state": {
       "description_width": ""
      }
     },
     "e20ddd1e1742450cb416c0d83d528dba": {
      "model_module": "@jupyter-widgets/controls",
      "model_module_version": "2.0.0",
      "model_name": "IntSliderModel",
      "state": {
       "behavior": "drag-tap",
       "layout": "IPY_MODEL_664a7591b7894ce59fe903d2720214f6",
       "style": "IPY_MODEL_6a1a81f5d8e3432398148572b6d77cf1",
       "value": 1
      }
     },
     "e20e9062a55242629b22dec7fae119d6": {
      "model_module": "@jupyter-widgets/controls",
      "model_module_version": "2.0.0",
      "model_name": "TextareaModel",
      "state": {
       "layout": "IPY_MODEL_b7253e6e6fb9453fbc918b4fb14e2761",
       "style": "IPY_MODEL_63f8f1944f7b4f629904cb1f7ddeba70",
       "value": "$$\\sum _{i=1}^3x_i$$"
      }
     },
     "e4566a0b3015468389e8967a8cde92dd": {
      "model_module": "@jupyter-widgets/controls",
      "model_module_version": "2.0.0",
      "model_name": "SelectModel",
      "state": {
       "description": "Short Text",
       "index": null,
       "layout": "IPY_MODEL_657754ef8fdf43dfa8915c6eb0851b78",
       "style": "IPY_MODEL_356d7020c7ab483e9a9195a7a0dd45bc"
      }
     },
     "e65696ef1bff4ac792b2279fffe2f40c": {
      "model_module": "@jupyter-widgets/base",
      "model_module_version": "2.0.0",
      "model_name": "LayoutModel",
      "state": {}
     },
     "efd64047c5664b7fae39de130b85af27": {
      "model_module": "@jupyter-widgets/base",
      "model_module_version": "2.0.0",
      "model_name": "LayoutModel",
      "state": {}
     },
     "f526b2e3e32f4602bfb5ed1e26dc0ef1": {
      "model_module": "@jupyter-widgets/controls",
      "model_module_version": "2.0.0",
      "model_name": "HTMLStyleModel",
      "state": {
       "description_width": "",
       "font_size": null,
       "text_color": null
      }
     },
     "f8f982ea66be4b11a60a17ab35862aba": {
      "model_module": "@jupyter-widgets/base",
      "model_module_version": "2.0.0",
      "model_name": "LayoutModel",
      "state": {
       "border_bottom": "1px solid #dddddd",
       "border_left": "1px solid #dddddd",
       "border_right": "1px solid #dddddd",
       "border_top": "1px solid #dddddd"
      }
     },
     "f9dadd2930c849c0a4c2cd4c42a20599": {
      "model_module": "@jupyter-widgets/base",
      "model_module_version": "2.0.0",
      "model_name": "LayoutModel",
      "state": {}
     },
     "fa73c28971a3480c8d0bac7cbeeb31ec": {
      "model_module": "@jupyter-widgets/controls",
      "model_module_version": "2.0.0",
      "model_name": "CheckboxModel",
      "state": {
       "disabled": false,
       "layout": "IPY_MODEL_22c23fd69a6e4a18b4057fcc93edaef6",
       "style": "IPY_MODEL_39e225c306064d3fb5055751790fa567",
       "value": true
      }
     },
     "ff906aebabd0418eb2bbc4700922e869": {
      "model_module": "@jupyter-widgets/controls",
      "model_module_version": "2.0.0",
      "model_name": "SliderStyleModel",
      "state": {
       "description_width": ""
      }
     }
    },
    "version_major": 2,
    "version_minor": 0
   }
  }
 },
 "nbformat": 4,
 "nbformat_minor": 5
}
