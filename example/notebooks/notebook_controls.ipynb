{
 "cells": [
  {
   "cell_type": "markdown",
   "id": "15c41203",
   "metadata": {},
   "source": [
    "How to use control in notebook"
   ]
  },
  {
   "cell_type": "code",
   "execution_count": 1,
   "id": "201c73e1",
   "metadata": {
    "collapsed": false,
    "jupyter": {
     "outputs_hidden": false
    }
   },
   "outputs": [],
   "source": [
    "from openalea.core.control import Control\n",
    "from openalea.oalab.service.notebook_control import notebook_editor, select_default_widgets\n",
    "from openalea.core.service.control import new_control\n",
    "from IPython.display import display\n",
    "%load_ext autoreload\n",
    "%autoreload"
   ]
  },
  {
   "cell_type": "markdown",
   "id": "a8fb750a",
   "metadata": {},
   "source": [
    "Display preference widget to allow user to choose wich widget he want to use to edit controls"
   ]
  },
  {
   "cell_type": "code",
   "execution_count": 2,
   "id": "5346fff8",
   "metadata": {
    "collapsed": false,
    "jupyter": {
     "outputs_hidden": false
    }
   },
   "outputs": [
    {
     "data": {
      "application/vnd.jupyter.widget-view+json": {
       "model_id": "d661c6f80c37459ca5e0e9751aa4b834",
       "version_major": 2,
       "version_minor": 0
      },
      "text/plain": [
       "Box(children=(Select(description='Integer ℤ', options=(), value=None), Select(description='Short Text', option…"
      ]
     },
     "metadata": {},
     "output_type": "display_data"
    }
   ],
   "source": [
    "pref = select_default_widgets()"
   ]
  },
  {
   "cell_type": "markdown",
   "id": "104367b8",
   "metadata": {},
   "source": [
    "Now, let's create 3 control explicitly by giving a name, an interface name and an initial value"
   ]
  },
  {
   "cell_type": "code",
   "execution_count": 3,
   "id": "d33cc2b1",
   "metadata": {
    "collapsed": false,
    "jupyter": {
     "outputs_hidden": false
    }
   },
   "outputs": [
    {
     "ename": "AttributeError",
     "evalue": "'IntSlider' object has no attribute '_ipython_display_'",
     "output_type": "error",
     "traceback": [
      "\u001b[31m---------------------------------------------------------------------------\u001b[39m",
      "\u001b[31mAttributeError\u001b[39m                            Traceback (most recent call last)",
      "\u001b[36mFile \u001b[39m\u001b[32m~/miniconda3/envs/oalab_dev/lib/python3.13/site-packages/IPython/core/formatters.py:984\u001b[39m, in \u001b[36mIPythonDisplayFormatter.__call__\u001b[39m\u001b[34m(self, obj)\u001b[39m\n\u001b[32m    982\u001b[39m method = get_real_method(obj, \u001b[38;5;28mself\u001b[39m.print_method)\n\u001b[32m    983\u001b[39m \u001b[38;5;28;01mif\u001b[39;00m method \u001b[38;5;129;01mis\u001b[39;00m \u001b[38;5;129;01mnot\u001b[39;00m \u001b[38;5;28;01mNone\u001b[39;00m:\n\u001b[32m--> \u001b[39m\u001b[32m984\u001b[39m     \u001b[43mmethod\u001b[49m\u001b[43m(\u001b[49m\u001b[43m)\u001b[49m\n\u001b[32m    985\u001b[39m     \u001b[38;5;28;01mreturn\u001b[39;00m \u001b[38;5;28;01mTrue\u001b[39;00m\n",
      "\u001b[36mFile \u001b[39m\u001b[32m~/Documents/Dev/oalab/src/openalea/oalab/service/notebook_control.py:63\u001b[39m, in \u001b[36mNotebookControlWidget._ipython_display_\u001b[39m\u001b[34m(self)\u001b[39m\n\u001b[32m     62\u001b[39m \u001b[38;5;28;01mdef\u001b[39;00m\u001b[38;5;250m \u001b[39m\u001b[34m_ipython_display_\u001b[39m(\u001b[38;5;28mself\u001b[39m):\n\u001b[32m---> \u001b[39m\u001b[32m63\u001b[39m     \u001b[38;5;28;01mreturn\u001b[39;00m \u001b[38;5;28;43mself\u001b[39;49m\u001b[43m.\u001b[49m\u001b[43m_w\u001b[49m\u001b[43m.\u001b[49m\u001b[43m_ipython_display_\u001b[49m()\n",
      "\u001b[31mAttributeError\u001b[39m: 'IntSlider' object has no attribute '_ipython_display_'"
     ]
    },
    {
     "data": {
      "text/plain": [
       "<openalea.oalab.service.notebook_control.NotebookControlWidget at 0x7f7bff947e00>"
      ]
     },
     "metadata": {},
     "output_type": "display_data"
    },
    {
     "ename": "AttributeError",
     "evalue": "'HTML' object has no attribute '_ipython_display_'",
     "output_type": "error",
     "traceback": [
      "\u001b[31m---------------------------------------------------------------------------\u001b[39m",
      "\u001b[31mAttributeError\u001b[39m                            Traceback (most recent call last)",
      "\u001b[36mFile \u001b[39m\u001b[32m~/miniconda3/envs/oalab_dev/lib/python3.13/site-packages/IPython/core/formatters.py:984\u001b[39m, in \u001b[36mIPythonDisplayFormatter.__call__\u001b[39m\u001b[34m(self, obj)\u001b[39m\n\u001b[32m    982\u001b[39m method = get_real_method(obj, \u001b[38;5;28mself\u001b[39m.print_method)\n\u001b[32m    983\u001b[39m \u001b[38;5;28;01mif\u001b[39;00m method \u001b[38;5;129;01mis\u001b[39;00m \u001b[38;5;129;01mnot\u001b[39;00m \u001b[38;5;28;01mNone\u001b[39;00m:\n\u001b[32m--> \u001b[39m\u001b[32m984\u001b[39m     \u001b[43mmethod\u001b[49m\u001b[43m(\u001b[49m\u001b[43m)\u001b[49m\n\u001b[32m    985\u001b[39m     \u001b[38;5;28;01mreturn\u001b[39;00m \u001b[38;5;28;01mTrue\u001b[39;00m\n",
      "\u001b[36mFile \u001b[39m\u001b[32m~/Documents/Dev/oalab/src/openalea/oalab/service/notebook_control.py:63\u001b[39m, in \u001b[36mNotebookControlWidget._ipython_display_\u001b[39m\u001b[34m(self)\u001b[39m\n\u001b[32m     62\u001b[39m \u001b[38;5;28;01mdef\u001b[39;00m\u001b[38;5;250m \u001b[39m\u001b[34m_ipython_display_\u001b[39m(\u001b[38;5;28mself\u001b[39m):\n\u001b[32m---> \u001b[39m\u001b[32m63\u001b[39m     \u001b[38;5;28;01mreturn\u001b[39;00m \u001b[38;5;28;43mself\u001b[39;49m\u001b[43m.\u001b[49m\u001b[43m_w\u001b[49m\u001b[43m.\u001b[49m\u001b[43m_ipython_display_\u001b[49m()\n",
      "\u001b[31mAttributeError\u001b[39m: 'HTML' object has no attribute '_ipython_display_'"
     ]
    },
    {
     "data": {
      "text/plain": [
       "<openalea.oalab.service.notebook_control.NotebookControlWidget at 0x7f7bfd418410>"
      ]
     },
     "metadata": {},
     "output_type": "display_data"
    },
    {
     "ename": "AttributeError",
     "evalue": "'Checkbox' object has no attribute '_ipython_display_'",
     "output_type": "error",
     "traceback": [
      "\u001b[31m---------------------------------------------------------------------------\u001b[39m",
      "\u001b[31mAttributeError\u001b[39m                            Traceback (most recent call last)",
      "\u001b[36mFile \u001b[39m\u001b[32m~/miniconda3/envs/oalab_dev/lib/python3.13/site-packages/IPython/core/formatters.py:984\u001b[39m, in \u001b[36mIPythonDisplayFormatter.__call__\u001b[39m\u001b[34m(self, obj)\u001b[39m\n\u001b[32m    982\u001b[39m method = get_real_method(obj, \u001b[38;5;28mself\u001b[39m.print_method)\n\u001b[32m    983\u001b[39m \u001b[38;5;28;01mif\u001b[39;00m method \u001b[38;5;129;01mis\u001b[39;00m \u001b[38;5;129;01mnot\u001b[39;00m \u001b[38;5;28;01mNone\u001b[39;00m:\n\u001b[32m--> \u001b[39m\u001b[32m984\u001b[39m     \u001b[43mmethod\u001b[49m\u001b[43m(\u001b[49m\u001b[43m)\u001b[49m\n\u001b[32m    985\u001b[39m     \u001b[38;5;28;01mreturn\u001b[39;00m \u001b[38;5;28;01mTrue\u001b[39;00m\n",
      "\u001b[36mFile \u001b[39m\u001b[32m~/Documents/Dev/oalab/src/openalea/oalab/service/notebook_control.py:63\u001b[39m, in \u001b[36mNotebookControlWidget._ipython_display_\u001b[39m\u001b[34m(self)\u001b[39m\n\u001b[32m     62\u001b[39m \u001b[38;5;28;01mdef\u001b[39;00m\u001b[38;5;250m \u001b[39m\u001b[34m_ipython_display_\u001b[39m(\u001b[38;5;28mself\u001b[39m):\n\u001b[32m---> \u001b[39m\u001b[32m63\u001b[39m     \u001b[38;5;28;01mreturn\u001b[39;00m \u001b[38;5;28;43mself\u001b[39;49m\u001b[43m.\u001b[49m\u001b[43m_w\u001b[49m\u001b[43m.\u001b[49m\u001b[43m_ipython_display_\u001b[49m()\n",
      "\u001b[31mAttributeError\u001b[39m: 'Checkbox' object has no attribute '_ipython_display_'"
     ]
    },
    {
     "data": {
      "text/plain": [
       "<openalea.oalab.service.notebook_control.NotebookControlWidget at 0x7f7bfd418910>"
      ]
     },
     "metadata": {},
     "output_type": "display_data"
    }
   ],
   "source": [
    "c1 = Control('c', 'IInt', 5)\n",
    "c2 = Control('html', 'IStr', \"<b>Control</b> sample\")\n",
    "c3 = Control('html', 'IBool', True)\n",
    "for c in (c1, c2, c3):\n",
    "    widget = notebook_editor(c)\n",
    "    display(widget)"
   ]
  },
  {
   "cell_type": "markdown",
   "id": "c320ed8f",
   "metadata": {},
   "source": [
    "Second approach is to use control service to create new control just giving its name and initial value.\n",
    "Interface is defined from initial value."
   ]
  },
  {
   "cell_type": "markdown",
   "id": "3fd4dee9",
   "metadata": {},
   "source": [
    "Create widgets (using arbitrary widgets representation)"
   ]
  },
  {
   "cell_type": "code",
   "execution_count": 8,
   "id": "00a97e07",
   "metadata": {
    "collapsed": false,
    "jupyter": {
     "outputs_hidden": false
    }
   },
   "outputs": [],
   "source": [
    "for value in (5, \"<b>Hello</b>\", True):\n",
    "    widget = notebook_editor(new_control('c', value=value))\n",
    "    display(widget)"
   ]
  },
  {
   "cell_type": "markdown",
   "id": "2d0dea85",
   "metadata": {},
   "source": [
    "This time, we want to create widgets using representation chosen in preferences"
   ]
  },
  {
   "cell_type": "code",
   "execution_count": 12,
   "id": "783aaf4f",
   "metadata": {
    "collapsed": false,
    "jupyter": {
     "outputs_hidden": false
    }
   },
   "outputs": [],
   "source": [
    "control = new_control('text', value=\"Text <b>Ok</b>\")\n",
    "widget = notebook_editor(control, preferences=pref)\n",
    "display(widget)"
   ]
  },
  {
   "cell_type": "markdown",
   "id": "177a0e6f",
   "metadata": {},
   "source": [
    "Last step, check control are well synchronized"
   ]
  },
  {
   "cell_type": "code",
   "execution_count": 13,
   "id": "dfe03f4b",
   "metadata": {
    "collapsed": false,
    "jupyter": {
     "outputs_hidden": false
    }
   },
   "outputs": [],
   "source": [
    "from IPython.html.widgets import TextWidget, TextareaWidget\n",
    "control = new_control('text', value=\"$$\\sum _{i=1}^3x_i$$\")\n",
    "w1 = notebook_editor(control, preferred=TextareaWidget)\n",
    "w2 = notebook_editor(control, preferences=pref)"
   ]
  },
  {
   "cell_type": "code",
   "execution_count": 14,
   "id": "a5a5f03d",
   "metadata": {
    "collapsed": false,
    "jupyter": {
     "outputs_hidden": false
    }
   },
   "outputs": [],
   "source": [
    "display(w1)\n",
    "display(w2)"
   ]
  },
  {
   "cell_type": "code",
   "execution_count": 15,
   "id": "98fad164",
   "metadata": {
    "collapsed": false,
    "jupyter": {
     "outputs_hidden": false
    }
   },
   "outputs": [],
   "source": [
    "control = new_control('int', value=1)\n",
    "w1 = notebook_editor(control)\n",
    "w2 = notebook_editor(control)\n",
    "display(w1)\n",
    "display(w2)"
   ]
  },
  {
   "cell_type": "code",
   "execution_count": 16,
   "id": "2e237c10",
   "metadata": {
    "collapsed": false,
    "jupyter": {
     "outputs_hidden": false
    }
   },
   "outputs": [
    {
     "data": {
      "text/latex": [
       "$$\\sum _{i=1}^3x_i$$"
      ],
      "text/plain": [
       "<IPython.core.display.Latex at 0x7f4b393d5bd0>"
      ]
     },
     "execution_count": 16,
     "metadata": {},
     "output_type": "execute_result"
    }
   ],
   "source": [
    "from IPython.display import Latex\n",
    "Latex(\"$$\\sum _{i=1}^3x_i$$\")"
   ]
  },
  {
   "cell_type": "markdown",
   "id": "28640ecc",
   "metadata": {},
   "source": [
    "Formule $\\sum _{i=1}^3x_i$ ok!\n",
    "\n",
    "\n"
   ]
  }
 ],
 "metadata": {
  "kernelspec": {
   "display_name": "Python 3 (ipykernel)",
   "language": "python",
   "name": "python3"
  },
  "language_info": {
   "codemirror_mode": {
    "name": "ipython",
    "version": 3
   },
   "file_extension": ".py",
   "mimetype": "text/x-python",
   "name": "python",
   "nbconvert_exporter": "python",
   "pygments_lexer": "ipython3",
   "version": "3.13.7"
  }
 },
 "nbformat": 4,
 "nbformat_minor": 5
}
